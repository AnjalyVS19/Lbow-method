{
 "cells": [
  {
   "cell_type": "code",
   "execution_count": 1,
   "id": "94e8e164",
   "metadata": {},
   "outputs": [],
   "source": [
    "import numpy as np\n",
    "from sklearn.cluster import KMeans\n",
    "from scipy.spatial.distance import cdist\n",
    "import matplotlib.pyplot as plt"
   ]
  },
  {
   "cell_type": "code",
   "execution_count": 2,
   "id": "5075fdef",
   "metadata": {
    "collapsed": true
   },
   "outputs": [
    {
     "data": {
      "text/plain": [
       "array([[1.44290858, 0.5127172 , 1.07459144, 0.92334814, 0.69057309,\n",
       "        1.11081087, 0.71525128, 1.02101474, 1.3878293 , 0.80461182],\n",
       "       [1.03922058, 0.54868568, 1.40257312, 0.94089429, 1.26151845,\n",
       "        1.38370334, 1.19691549, 0.78053702, 1.13025934, 0.7842714 ]])"
      ]
     },
     "execution_count": 2,
     "metadata": {},
     "output_type": "execute_result"
    }
   ],
   "source": [
    "cluster1=np.random.uniform(0.5,1.5,(2,10))\n",
    "cluster1"
   ]
  },
  {
   "cell_type": "code",
   "execution_count": 3,
   "id": "c0c66b11",
   "metadata": {
    "collapsed": true
   },
   "outputs": [
    {
     "data": {
      "text/plain": [
       "array([[4.33437195, 4.4267917 , 3.63951287, 3.83417272, 4.04561654,\n",
       "        3.83207014, 4.38025742, 3.87294647, 4.05008782, 3.68969583],\n",
       "       [4.25659571, 3.54299786, 3.9974084 , 3.90779747, 3.8076156 ,\n",
       "        3.97507866, 3.96123622, 3.68078216, 3.56935651, 3.61560432]])"
      ]
     },
     "execution_count": 3,
     "metadata": {},
     "output_type": "execute_result"
    }
   ],
   "source": [
    "cluster2=np.random.uniform(3.5,4.5,(2,10))\n",
    "cluster2"
   ]
  },
  {
   "cell_type": "code",
   "execution_count": 5,
   "id": "748c0812",
   "metadata": {
    "collapsed": true
   },
   "outputs": [
    {
     "data": {
      "text/plain": [
       "array([[1.44290858, 1.03922058],\n",
       "       [0.5127172 , 0.54868568],\n",
       "       [1.07459144, 1.40257312],\n",
       "       [0.92334814, 0.94089429],\n",
       "       [0.69057309, 1.26151845],\n",
       "       [1.11081087, 1.38370334],\n",
       "       [0.71525128, 1.19691549],\n",
       "       [1.02101474, 0.78053702],\n",
       "       [1.3878293 , 1.13025934],\n",
       "       [0.80461182, 0.7842714 ],\n",
       "       [4.33437195, 4.25659571],\n",
       "       [4.4267917 , 3.54299786],\n",
       "       [3.63951287, 3.9974084 ],\n",
       "       [3.83417272, 3.90779747],\n",
       "       [4.04561654, 3.8076156 ],\n",
       "       [3.83207014, 3.97507866],\n",
       "       [4.38025742, 3.96123622],\n",
       "       [3.87294647, 3.68078216],\n",
       "       [4.05008782, 3.56935651],\n",
       "       [3.68969583, 3.61560432]])"
      ]
     },
     "execution_count": 5,
     "metadata": {},
     "output_type": "execute_result"
    }
   ],
   "source": [
    "x1=np.hstack((cluster1,cluster2)).T # .T:- transpose\n",
    "x1"
   ]
  },
  {
   "cell_type": "code",
   "execution_count": 7,
   "id": "912c7e48",
   "metadata": {
    "collapsed": true
   },
   "outputs": [
    {
     "data": {
      "text/plain": [
       "array([[1.44290858, 1.03922058],\n",
       "       [0.5127172 , 0.54868568],\n",
       "       [1.07459144, 1.40257312],\n",
       "       [0.92334814, 0.94089429],\n",
       "       [0.69057309, 1.26151845],\n",
       "       [1.11081087, 1.38370334],\n",
       "       [0.71525128, 1.19691549],\n",
       "       [1.02101474, 0.78053702],\n",
       "       [1.3878293 , 1.13025934],\n",
       "       [0.80461182, 0.7842714 ],\n",
       "       [1.44290858, 1.03922058],\n",
       "       [0.5127172 , 0.54868568],\n",
       "       [1.07459144, 1.40257312],\n",
       "       [0.92334814, 0.94089429],\n",
       "       [0.69057309, 1.26151845],\n",
       "       [1.11081087, 1.38370334],\n",
       "       [0.71525128, 1.19691549],\n",
       "       [1.02101474, 0.78053702],\n",
       "       [1.3878293 , 1.13025934],\n",
       "       [0.80461182, 0.7842714 ]])"
      ]
     },
     "execution_count": 7,
     "metadata": {},
     "output_type": "execute_result"
    }
   ],
   "source": [
    "x2=np.hstack((cluster1,cluster1)).T\n",
    "x2"
   ]
  },
  {
   "cell_type": "code",
   "execution_count": 9,
   "id": "0ddd09e8",
   "metadata": {
    "collapsed": true
   },
   "outputs": [
    {
     "name": "stdout",
     "output_type": "stream",
     "text": [
      "[[1.44290858 1.03922058]\n",
      " [0.5127172  0.54868568]\n",
      " [1.07459144 1.40257312]\n",
      " [0.92334814 0.94089429]\n",
      " [0.69057309 1.26151845]\n",
      " [1.11081087 1.38370334]\n",
      " [0.71525128 1.19691549]\n",
      " [1.02101474 0.78053702]\n",
      " [1.3878293  1.13025934]\n",
      " [0.80461182 0.7842714 ]\n",
      " [4.33437195 4.25659571]\n",
      " [4.4267917  3.54299786]\n",
      " [3.63951287 3.9974084 ]\n",
      " [3.83417272 3.90779747]\n",
      " [4.04561654 3.8076156 ]\n",
      " [3.83207014 3.97507866]\n",
      " [4.38025742 3.96123622]\n",
      " [3.87294647 3.68078216]\n",
      " [4.05008782 3.56935651]\n",
      " [3.68969583 3.61560432]\n",
      " [1.44290858 1.03922058]\n",
      " [0.5127172  0.54868568]\n",
      " [1.07459144 1.40257312]\n",
      " [0.92334814 0.94089429]\n",
      " [0.69057309 1.26151845]\n",
      " [1.11081087 1.38370334]\n",
      " [0.71525128 1.19691549]\n",
      " [1.02101474 0.78053702]\n",
      " [1.3878293  1.13025934]\n",
      " [0.80461182 0.7842714 ]\n",
      " [1.44290858 1.03922058]\n",
      " [0.5127172  0.54868568]\n",
      " [1.07459144 1.40257312]\n",
      " [0.92334814 0.94089429]\n",
      " [0.69057309 1.26151845]\n",
      " [1.11081087 1.38370334]\n",
      " [0.71525128 1.19691549]\n",
      " [1.02101474 0.78053702]\n",
      " [1.3878293  1.13025934]\n",
      " [0.80461182 0.7842714 ]]\n",
      "(40, 2)\n"
     ]
    }
   ],
   "source": [
    "x=np.vstack((x1,x2))\n",
    "print(x)\n",
    "print(x.shape)"
   ]
  },
  {
   "cell_type": "code",
   "execution_count": 10,
   "id": "dd82638b",
   "metadata": {},
   "outputs": [
    {
     "data": {
      "text/plain": [
       "[1, 2, 3, 4, 5, 6, 7, 8, 9]"
      ]
     },
     "execution_count": 10,
     "metadata": {},
     "output_type": "execute_result"
    }
   ],
   "source": [
    "k=range(1,10)\n",
    "list(k)"
   ]
  },
  {
   "cell_type": "code",
   "execution_count": 12,
   "id": "7d777d5f",
   "metadata": {
    "collapsed": true
   },
   "outputs": [
    {
     "name": "stderr",
     "output_type": "stream",
     "text": [
      "C:\\Users\\archa\\anaconda3\\Lib\\site-packages\\sklearn\\cluster\\_kmeans.py:1412: FutureWarning: The default value of `n_init` will change from 10 to 'auto' in 1.4. Set the value of `n_init` explicitly to suppress the warning\n",
      "  super()._check_params_vs_input(X, default_n_init=10)\n",
      "C:\\Users\\archa\\anaconda3\\Lib\\site-packages\\sklearn\\cluster\\_kmeans.py:1436: UserWarning: KMeans is known to have a memory leak on Windows with MKL, when there are less chunks than available threads. You can avoid it by setting the environment variable OMP_NUM_THREADS=1.\n",
      "  warnings.warn(\n",
      "C:\\Users\\archa\\anaconda3\\Lib\\site-packages\\sklearn\\cluster\\_kmeans.py:1412: FutureWarning: The default value of `n_init` will change from 10 to 'auto' in 1.4. Set the value of `n_init` explicitly to suppress the warning\n",
      "  super()._check_params_vs_input(X, default_n_init=10)\n",
      "C:\\Users\\archa\\anaconda3\\Lib\\site-packages\\sklearn\\cluster\\_kmeans.py:1436: UserWarning: KMeans is known to have a memory leak on Windows with MKL, when there are less chunks than available threads. You can avoid it by setting the environment variable OMP_NUM_THREADS=1.\n",
      "  warnings.warn(\n",
      "C:\\Users\\archa\\anaconda3\\Lib\\site-packages\\sklearn\\cluster\\_kmeans.py:1412: FutureWarning: The default value of `n_init` will change from 10 to 'auto' in 1.4. Set the value of `n_init` explicitly to suppress the warning\n",
      "  super()._check_params_vs_input(X, default_n_init=10)\n",
      "C:\\Users\\archa\\anaconda3\\Lib\\site-packages\\sklearn\\cluster\\_kmeans.py:1436: UserWarning: KMeans is known to have a memory leak on Windows with MKL, when there are less chunks than available threads. You can avoid it by setting the environment variable OMP_NUM_THREADS=1.\n",
      "  warnings.warn(\n",
      "C:\\Users\\archa\\anaconda3\\Lib\\site-packages\\sklearn\\cluster\\_kmeans.py:1412: FutureWarning: The default value of `n_init` will change from 10 to 'auto' in 1.4. Set the value of `n_init` explicitly to suppress the warning\n",
      "  super()._check_params_vs_input(X, default_n_init=10)\n",
      "C:\\Users\\archa\\anaconda3\\Lib\\site-packages\\sklearn\\cluster\\_kmeans.py:1436: UserWarning: KMeans is known to have a memory leak on Windows with MKL, when there are less chunks than available threads. You can avoid it by setting the environment variable OMP_NUM_THREADS=1.\n",
      "  warnings.warn(\n",
      "C:\\Users\\archa\\anaconda3\\Lib\\site-packages\\sklearn\\cluster\\_kmeans.py:1412: FutureWarning: The default value of `n_init` will change from 10 to 'auto' in 1.4. Set the value of `n_init` explicitly to suppress the warning\n",
      "  super()._check_params_vs_input(X, default_n_init=10)\n",
      "C:\\Users\\archa\\anaconda3\\Lib\\site-packages\\sklearn\\cluster\\_kmeans.py:1436: UserWarning: KMeans is known to have a memory leak on Windows with MKL, when there are less chunks than available threads. You can avoid it by setting the environment variable OMP_NUM_THREADS=1.\n",
      "  warnings.warn(\n",
      "C:\\Users\\archa\\anaconda3\\Lib\\site-packages\\sklearn\\cluster\\_kmeans.py:1412: FutureWarning: The default value of `n_init` will change from 10 to 'auto' in 1.4. Set the value of `n_init` explicitly to suppress the warning\n",
      "  super()._check_params_vs_input(X, default_n_init=10)\n",
      "C:\\Users\\archa\\anaconda3\\Lib\\site-packages\\sklearn\\cluster\\_kmeans.py:1436: UserWarning: KMeans is known to have a memory leak on Windows with MKL, when there are less chunks than available threads. You can avoid it by setting the environment variable OMP_NUM_THREADS=1.\n",
      "  warnings.warn(\n",
      "C:\\Users\\archa\\anaconda3\\Lib\\site-packages\\sklearn\\cluster\\_kmeans.py:1412: FutureWarning: The default value of `n_init` will change from 10 to 'auto' in 1.4. Set the value of `n_init` explicitly to suppress the warning\n",
      "  super()._check_params_vs_input(X, default_n_init=10)\n",
      "C:\\Users\\archa\\anaconda3\\Lib\\site-packages\\sklearn\\cluster\\_kmeans.py:1436: UserWarning: KMeans is known to have a memory leak on Windows with MKL, when there are less chunks than available threads. You can avoid it by setting the environment variable OMP_NUM_THREADS=1.\n",
      "  warnings.warn(\n",
      "C:\\Users\\archa\\anaconda3\\Lib\\site-packages\\sklearn\\cluster\\_kmeans.py:1412: FutureWarning: The default value of `n_init` will change from 10 to 'auto' in 1.4. Set the value of `n_init` explicitly to suppress the warning\n",
      "  super()._check_params_vs_input(X, default_n_init=10)\n",
      "C:\\Users\\archa\\anaconda3\\Lib\\site-packages\\sklearn\\cluster\\_kmeans.py:1436: UserWarning: KMeans is known to have a memory leak on Windows with MKL, when there are less chunks than available threads. You can avoid it by setting the environment variable OMP_NUM_THREADS=1.\n",
      "  warnings.warn(\n",
      "C:\\Users\\archa\\anaconda3\\Lib\\site-packages\\sklearn\\cluster\\_kmeans.py:1412: FutureWarning: The default value of `n_init` will change from 10 to 'auto' in 1.4. Set the value of `n_init` explicitly to suppress the warning\n",
      "  super()._check_params_vs_input(X, default_n_init=10)\n",
      "C:\\Users\\archa\\anaconda3\\Lib\\site-packages\\sklearn\\cluster\\_kmeans.py:1436: UserWarning: KMeans is known to have a memory leak on Windows with MKL, when there are less chunks than available threads. You can avoid it by setting the environment variable OMP_NUM_THREADS=1.\n",
      "  warnings.warn(\n"
     ]
    },
    {
     "data": {
      "image/png": "[encoded data removed]",
      "text/plain": [
       "<Figure size 640x480 with 1 Axes>"
      ]
     },
     "metadata": {},
     "output_type": "display_data"
    }
   ],
   "source": [
    "mean_distortion=[]\n",
    "for i in k:\n",
    "    model=KMeans(n_clusters=i)\n",
    "    model.fit(x)\n",
    "    mean_distortion.append(sum(np.min(cdist(x,model.cluster_centers_,'euclidean'),axis=1))/x.shape[0])\n",
    "plt.plot(k,mean_distortion,'bx-')\n",
    "plt.xlabel('k')\n",
    "plt.ylabel('selecting k with l-bow')\n",
    "plt.show()"
   ]
  },
  {
   "cell_type": "code",
   "execution_count": null,
   "id": "36f5c0d2",
   "metadata": {},
   "outputs": [],
   "source": []
  }
 ],
 "metadata": {
  "kernelspec": {
   "display_name": "Python 3 (ipykernel)",
   "language": "python",
   "name": "python3"
  },
  "language_info": {
   "codemirror_mode": {
    "name": "ipython",
    "version": 3
   },
   "file_extension": ".py",
   "mimetype": "text/x-python",
   "name": "python",
   "nbconvert_exporter": "python",
   "pygments_lexer": "ipython3",
   "version": "3.11.5"
  }
 },
 "nbformat": 4,
 "nbformat_minor": 5
}
